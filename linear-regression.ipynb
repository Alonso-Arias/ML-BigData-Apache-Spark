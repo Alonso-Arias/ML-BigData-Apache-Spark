{
    "cells": [
        {
            "metadata": {
                "collapsed": true
            },
            "cell_type": "code",
            "source": "dp1 = {'partno': 100, 'maxtemp': 35, 'mintemp': 35, 'maxvibration': 12, 'asperity': 0.32}\ndp2 = {'partno': 101, 'maxtemp': 46, 'mintemp': 35, 'maxvibration': 21, 'asperity': 0.34}\ndp3 = {'partno': 130, 'maxtemp': 56, 'mintemp': 46, 'maxvibration': 3412, 'asperity': 12.42}\ndp4 = {'partno': 131, 'maxtemp': 58, 'mintemp': 48, 'maxvibration': 3542, 'asperity': 13.43}",
            "execution_count": 7,
            "outputs": []
        },
        {
            "metadata": {
                "collapsed": true
            },
            "cell_type": "code",
            "source": "def predict(dp):\n    if dp['maxvibration']> 100:\n        return 13\n    else:\n        return 0.33",
            "execution_count": 8,
            "outputs": []
        },
        {
            "metadata": {},
            "cell_type": "code",
            "source": "predict(dp1)",
            "execution_count": 9,
            "outputs": [
                {
                    "output_type": "execute_result",
                    "data": {
                        "text/plain": "0.33"
                    },
                    "execution_count": 9,
                    "metadata": {}
                }
            ]
        },
        {
            "metadata": {},
            "cell_type": "code",
            "source": "predict(dp2)",
            "execution_count": 10,
            "outputs": [
                {
                    "output_type": "execute_result",
                    "data": {
                        "text/plain": "0.33"
                    },
                    "execution_count": 10,
                    "metadata": {}
                }
            ]
        },
        {
            "metadata": {},
            "cell_type": "code",
            "source": "predict(dp3)",
            "execution_count": 11,
            "outputs": [
                {
                    "output_type": "execute_result",
                    "data": {
                        "text/plain": "13"
                    },
                    "execution_count": 11,
                    "metadata": {}
                }
            ]
        },
        {
            "metadata": {},
            "cell_type": "code",
            "source": "predict(dp4)",
            "execution_count": 12,
            "outputs": [
                {
                    "output_type": "execute_result",
                    "data": {
                        "text/plain": "13"
                    },
                    "execution_count": 12,
                    "metadata": {}
                }
            ]
        },
        {
            "metadata": {
                "collapsed": true
            },
            "cell_type": "code",
            "source": "w1 = 0.30\nw2 = 0\nw3 = 0\nw4 = 13/3412.0\n\ndef mlpredict(dp):\n    return w1+w2*dp['maxtemp']+w3*dp['mintemp']+w4*dp['maxvibration']",
            "execution_count": 70,
            "outputs": []
        },
        {
            "metadata": {},
            "cell_type": "code",
            "source": "mlpredict(dp4)",
            "execution_count": 74,
            "outputs": [
                {
                    "output_type": "execute_result",
                    "data": {
                        "text/plain": "13.795310668229778"
                    },
                    "execution_count": 74,
                    "metadata": {}
                }
            ]
        },
        {
            "metadata": {
                "collapsed": true
            },
            "cell_type": "code",
            "source": "dp1 = {'partno': 100, 'maxtemp': 35, 'mintemp': 35, 'maxvibration': 12, 'broken': 0}\ndp2 = {'partno': 101, 'maxtemp': 46, 'mintemp': 35, 'maxvibration': 21, 'broken': 0}\ndp3 = {'partno': 130, 'maxtemp': 56, 'mintemp': 46, 'maxvibration': 3412, 'broken': 1}\ndp4 = {'partno': 131, 'maxtemp': 58, 'mintemp': 48, 'maxvibration': 3542, 'broken': 1}",
            "execution_count": 102,
            "outputs": []
        },
        {
            "metadata": {
                "collapsed": true
            },
            "cell_type": "code",
            "source": "def predict(dp):\n    if dp['maxvibration']> 100:\n        return 1\n    else:\n        return 0",
            "execution_count": 103,
            "outputs": []
        },
        {
            "metadata": {},
            "cell_type": "code",
            "source": "predict(dp1)",
            "execution_count": 104,
            "outputs": [
                {
                    "output_type": "execute_result",
                    "data": {
                        "text/plain": "0"
                    },
                    "execution_count": 104,
                    "metadata": {}
                }
            ]
        },
        {
            "metadata": {},
            "cell_type": "code",
            "source": "predict(dp2)",
            "execution_count": 105,
            "outputs": [
                {
                    "output_type": "execute_result",
                    "data": {
                        "text/plain": "0"
                    },
                    "execution_count": 105,
                    "metadata": {}
                }
            ]
        },
        {
            "metadata": {},
            "cell_type": "code",
            "source": "predict(dp3)",
            "execution_count": 106,
            "outputs": [
                {
                    "output_type": "execute_result",
                    "data": {
                        "text/plain": "1"
                    },
                    "execution_count": 106,
                    "metadata": {}
                }
            ]
        },
        {
            "metadata": {},
            "cell_type": "code",
            "source": "predict(dp4)",
            "execution_count": 107,
            "outputs": [
                {
                    "output_type": "execute_result",
                    "data": {
                        "text/plain": "1"
                    },
                    "execution_count": 107,
                    "metadata": {}
                }
            ]
        },
        {
            "metadata": {
                "collapsed": true
            },
            "cell_type": "code",
            "source": "import math\n\ndef sigmoid(x):\n    return 1/(1+math.exp(-x))",
            "execution_count": 113,
            "outputs": []
        },
        {
            "metadata": {
                "collapsed": true
            },
            "cell_type": "code",
            "source": "w1 = 0.30\nw2 = 0\nw3 = 0\nw4 = 13/3412.0\n\ndef mlpredict(dp):\n    return 1 if sigmoid(w1+w2*dp['maxtemp']+w3*dp['mintemp']+w4*dp['maxvibration']) > 0.7 else 0",
            "execution_count": 119,
            "outputs": []
        },
        {
            "metadata": {},
            "cell_type": "code",
            "source": "mlpredict(dp4)",
            "execution_count": 124,
            "outputs": [
                {
                    "output_type": "execute_result",
                    "data": {
                        "text/plain": "1"
                    },
                    "execution_count": 124,
                    "metadata": {}
                }
            ]
        },
        {
            "metadata": {
                "collapsed": true
            },
            "cell_type": "code",
            "source": "dp1 = {'partno': 100, 'maxtemp': 35, 'mintemp': 35, 'maxvibration': 12, 'asperity': 0.32}\ndp2 = {'partno': 101, 'maxtemp': 46, 'mintemp': 35, 'maxvibration': 21, 'asperity': 0.34}\ndp3 = {'partno': 130, 'maxtemp': 56, 'mintemp': 46, 'maxvibration': 3412, 'asperity': 12.42}\ndp4 = {'partno': 131, 'maxtemp': 58, 'mintemp': 48, 'maxvibration': 3542, 'asperity': 13.43}",
            "execution_count": 188,
            "outputs": []
        },
        {
            "metadata": {},
            "cell_type": "code",
            "source": "dp1",
            "execution_count": 189,
            "outputs": [
                {
                    "output_type": "execute_result",
                    "metadata": {},
                    "data": {
                        "text/plain": "{'asperity': 0.32,\n 'maxtemp': 35,\n 'maxvibration': 12,\n 'mintemp': 35,\n 'partno': 100}"
                    },
                    "execution_count": 189
                }
            ]
        },
        {
            "metadata": {
                "collapsed": true
            },
            "cell_type": "code",
            "source": "x1 = np.array([1] + [v for k, v in dp1.items()] [1:-1])\nx2 = np.array([1] + [v for k, v in dp2.items()] [1:-1])\nx3 = np.array([1] + [v for k, v in dp3.items()] [1:-1])\nx4 = np.array([1] + [v for k, v in dp4.items()] [1:-1])",
            "execution_count": 198,
            "outputs": []
        },
        {
            "metadata": {},
            "cell_type": "code",
            "source": "x1",
            "execution_count": 197,
            "outputs": [
                {
                    "output_type": "execute_result",
                    "metadata": {},
                    "data": {
                        "text/plain": "array([  1.  ,  35.  ,   0.32,  35.  ])"
                    },
                    "execution_count": 197
                }
            ]
        },
        {
            "metadata": {
                "collapsed": true
            },
            "cell_type": "code",
            "source": "w_layer1 = np.random.rand(4)\n\ndef neuron(x):\n    return sigmoid(x.dot(w_layer1))",
            "execution_count": 199,
            "outputs": []
        },
        {
            "metadata": {},
            "cell_type": "code",
            "source": "neuron(x1)",
            "execution_count": 200,
            "outputs": [
                {
                    "output_type": "execute_result",
                    "metadata": {},
                    "data": {
                        "text/plain": "0.9999999999559348"
                    },
                    "execution_count": 200
                }
            ]
        },
        {
            "metadata": {
                "collapsed": true
            },
            "cell_type": "code",
            "source": "def sigmoid(x):\n    return 1/(1+np.exp(-x))",
            "execution_count": 201,
            "outputs": []
        },
        {
            "metadata": {
                "collapsed": true
            },
            "cell_type": "code",
            "source": "w_layer1 = np.random.rand(4,4)\n\ndef layer1(x):\n    return sigmoid(x.dot(w_layer1))",
            "execution_count": 202,
            "outputs": []
        },
        {
            "metadata": {
                "collapsed": true
            },
            "cell_type": "code",
            "source": "x = np.array([x1,x2,x3,x4])",
            "execution_count": 203,
            "outputs": []
        },
        {
            "metadata": {},
            "cell_type": "code",
            "source": "x",
            "execution_count": 204,
            "outputs": [
                {
                    "output_type": "execute_result",
                    "metadata": {},
                    "data": {
                        "text/plain": "array([[  1.  ,  35.  ,   0.32,  35.  ],\n       [  1.  ,  35.  ,   0.34,  46.  ],\n       [  1.  ,  46.  ,  12.42,  56.  ],\n       [  1.  ,  48.  ,  13.43,  58.  ]])"
                    },
                    "execution_count": 204
                }
            ]
        },
        {
            "metadata": {},
            "cell_type": "code",
            "source": "layer1(x)",
            "execution_count": 205,
            "outputs": [
                {
                    "output_type": "execute_result",
                    "metadata": {},
                    "data": {
                        "text/plain": "array([[ 0.99998882,  1.        ,  1.        ,  1.        ],\n       [ 0.99999931,  1.        ,  1.        ,  1.        ],\n       [ 1.        ,  1.        ,  1.        ,  1.        ],\n       [ 1.        ,  1.        ,  1.        ,  1.        ]])"
                    },
                    "execution_count": 205
                }
            ]
        },
        {
            "metadata": {
                "collapsed": true
            },
            "cell_type": "code",
            "source": "w_layer2 = np.random.rand(4,4)\n\ndef layer2(x):\n    return sigmoid(x.dot(w_layer2))",
            "execution_count": 206,
            "outputs": []
        },
        {
            "metadata": {},
            "cell_type": "code",
            "source": "layer2(layer1(x))",
            "execution_count": 207,
            "outputs": [
                {
                    "output_type": "execute_result",
                    "metadata": {},
                    "data": {
                        "text/plain": "array([[ 0.78965544,  0.86723112,  0.93535789,  0.95621991],\n       [ 0.78965579,  0.86723191,  0.93535818,  0.9562201 ],\n       [ 0.78965582,  0.86723196,  0.93535819,  0.95622011],\n       [ 0.78965582,  0.86723196,  0.93535819,  0.95622011]])"
                    },
                    "execution_count": 207
                }
            ]
        },
        {
            "metadata": {
                "collapsed": true
            },
            "cell_type": "code",
            "source": "",
            "execution_count": null,
            "outputs": []
        }
    ],
    "metadata": {
        "kernelspec": {
            "name": "python36",
            "display_name": "Python 3.6 with Spark",
            "language": "python3"
        },
        "language_info": {
            "mimetype": "text/x-python",
            "nbconvert_exporter": "python",
            "name": "python",
            "pygments_lexer": "ipython3",
            "version": "3.6.8",
            "file_extension": ".py",
            "codemirror_mode": {
                "version": 3,
                "name": "ipython"
            }
        }
    },
    "nbformat": 4,
    "nbformat_minor": 1
}